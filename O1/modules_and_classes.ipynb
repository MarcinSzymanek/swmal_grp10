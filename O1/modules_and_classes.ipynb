{
 "cells": [
  {
   "cell_type": "markdown",
   "metadata": {},
   "source": [
    "# SWMAL Exercise\n",
    "\n",
    "## Python Basics\n",
    "\n",
    "\n",
    "#### Qa Load and test the `libitmal` module"
   ]
  },
  {
   "cell_type": "code",
   "execution_count": 1,
   "metadata": {
    "scrolled": true
   },
   "outputs": [
    {
     "ename": "ModuleNotFoundError",
     "evalue": "No module named 'libitmal'",
     "output_type": "error",
     "traceback": [
      "\u001b[0;31m---------------------------------------------------------------------------\u001b[0m",
      "\u001b[0;31mModuleNotFoundError\u001b[0m                       Traceback (most recent call last)",
      "Cell \u001b[0;32mIn[1], line 1\u001b[0m\n\u001b[0;32m----> 1\u001b[0m \u001b[38;5;28;01mfrom\u001b[39;00m \u001b[38;5;21;01mlibitmal\u001b[39;00m \u001b[38;5;28;01mimport\u001b[39;00m utils \u001b[38;5;28;01mas\u001b[39;00m itmalutils\n\u001b[1;32m      2\u001b[0m \u001b[38;5;28mprint\u001b[39m(\u001b[38;5;28mdir\u001b[39m(itmalutils))\n\u001b[1;32m      4\u001b[0m \u001b[38;5;28mprint\u001b[39m(\u001b[38;5;124m\"\u001b[39m\u001b[38;5;130;01m\\n\u001b[39;00m\u001b[38;5;124mHere is the placement of the itmal:\u001b[39m\u001b[38;5;124m\"\u001b[39m)\n",
      "\u001b[0;31mModuleNotFoundError\u001b[0m: No module named 'libitmal'"
     ]
    }
   ],
   "source": [
    "from libitmal import utils as itmalutils\n",
    "print(dir(itmalutils))\n",
    "\n",
    "print(\"\\nHere is the placement of the itmal:\")\n",
    "print(itmalutils.__file__)\n",
    "\n",
    "print(\"\\nTest function:\")\n",
    "itmalutils.TestAll()"
   ]
  },
  {
   "cell_type": "markdown",
   "metadata": {},
   "source": [
    "#### Qb Create your own module, with some functions, and test it\n"
   ]
  },
  {
   "cell_type": "code",
   "execution_count": 38,
   "metadata": {},
   "outputs": [
    {
     "name": "stdout",
     "output_type": "stream",
     "text": [
      "Libriary placement:\n",
      "<module 'libitmal.my_module' from 'C:\\\\Users\\\\ninat\\\\OneDrive\\\\Skrivebord\\\\Softwareteknologi\\\\Machine-Learning\\\\gitmal\\\\libitmal\\\\my_module.py'>\n",
      "\n",
      "Calling self made module:\n",
      "Hello, Nina!\n"
     ]
    }
   ],
   "source": [
    "from libitmal import my_module as mym\n",
    "\n",
    "print(\"Libriary placement:\")\n",
    "print(mym)\n",
    "\n",
    "print(\"\\nCalling self made module:\")\n",
    "print(mym.say_hello(\"Nina\"))"
   ]
  },
  {
   "cell_type": "markdown",
   "metadata": {},
   "source": [
    "#### Qc How do you 'recompile' a module?\n",
    "\n",
    "The load_ext is a command which loads the autoreload extension. \n",
    "The autoreload 2 means a module will reload everytime a cell is executed."
   ]
  },
  {
   "cell_type": "code",
   "execution_count": 22,
   "metadata": {},
   "outputs": [
    {
     "name": "stdout",
     "output_type": "stream",
     "text": [
      "The autoreload extension is already loaded. To reload it, use:\n",
      "  %reload_ext autoreload\n",
      "Hello, Clara!\n",
      "new hello\n"
     ]
    }
   ],
   "source": [
    "%load_ext autoreload\n",
    "%autoreload 2\n",
    "\n",
    "print(mym.say_hello(\"Clara\"))\n",
    "mym.new_hello()"
   ]
  },
  {
   "cell_type": "markdown",
   "metadata": {},
   "source": [
    "### Classes in Python\n",
    "\n",
    "#### Qe Extend the class with some public and private functions and member variables\n",
    "\n",
    "###### Private variables\n",
    "If the variables is named with a single leading underscore, it tells python that it should be treated as a internal or private variable. However it can still be accessed from the outside, so it is up to the programmer to respect the private variables. \n",
    "###### Private function\n",
    "The same applies to function where a single underscore indicates it is meant to be private, but can still be accessed from the outside of the class. \n",
    "\n",
    "###### Self meaning\n",
    "When working with classes in python, the term \"self\" refers to the instance of the class that is currently being used.\n",
    "If you forget to include \"self\" in the parameter list, it will result in an error\n",
    "\n",
    "Example:"
   ]
  },
  {
   "cell_type": "code",
   "execution_count": 30,
   "metadata": {
    "scrolled": true
   },
   "outputs": [
    {
     "ename": "TypeError",
     "evalue": "MyClass.myfun() takes 0 positional arguments but 1 was given",
     "output_type": "error",
     "traceback": [
      "\u001b[1;31m---------------------------------------------------------------------------\u001b[0m",
      "\u001b[1;31mTypeError\u001b[0m                                 Traceback (most recent call last)",
      "Cell \u001b[1;32mIn[30], line 7\u001b[0m\n\u001b[0;32m      3\u001b[0m         \u001b[38;5;28mprint\u001b[39m(\u001b[38;5;124m\"\u001b[39m\u001b[38;5;124mmyfun\u001b[39m\u001b[38;5;124m\"\u001b[39m)\n\u001b[0;32m      5\u001b[0m myobjectx \u001b[38;5;241m=\u001b[39m MyClass()\n\u001b[1;32m----> 7\u001b[0m myobjectx\u001b[38;5;241m.\u001b[39mmyfun()\n",
      "\u001b[1;31mTypeError\u001b[0m: MyClass.myfun() takes 0 positional arguments but 1 was given"
     ]
    }
   ],
   "source": [
    "class MyClass:\n",
    "    def myfun(): #missing self\n",
    "        print(\"myfun\")\n",
    "\n",
    "myobjectx = MyClass()\n",
    "        \n",
    "myobjectx.myfun() #Will result in error as no self is provided"
   ]
  },
  {
   "cell_type": "markdown",
   "metadata": {},
   "source": [
    "#### Qf Extend the class with a Constructor\n",
    "\n",
    "###### Constructor \n",
    "In python a constructor is called an initilizer and is declared by writing __init__ with 2 underscores on both sides. It is automatically declared when an object of the class is created. \n",
    "\n",
    "###### Desctructor \n",
    "The descructor in python is declared with __del__ but is not required as the class makes one internally if none is provided. Additionallt python relies heavily on automatic garbage collection and reference counting like C#. \n",
    "The destructor is called when del obj is called. "
   ]
  },
  {
   "cell_type": "code",
   "execution_count": 43,
   "metadata": {},
   "outputs": [
    {
     "name": "stdout",
     "output_type": "stream",
     "text": [
      "Constructor called\n",
      "Destructor called\n"
     ]
    }
   ],
   "source": [
    "# **\n",
    "class MyClass:\n",
    "    def __init__(self, arg1, arg2):\n",
    "        self.arg1 = arg1\n",
    "        self.arg2 = arg2\n",
    "        print(\"Constructor called\")\n",
    "    def __del__(self):\n",
    "        print(\"Destructor called\")\n",
    "        \n",
    "obj = MyClass(\"Hello\", 42) #This will call the constructor\n",
    "del obj #This will call the destructor"
   ]
  },
  {
   "cell_type": "markdown",
   "metadata": {},
   "source": [
    "#### Qg Extend the class with a to-string function\n",
    "\n",
    "To serialize a class in python, you can use a method called __str__, which returns a string representation of the object, allowing to \"print\" the class instance as a string.\n",
    "The __str__ method is called whenever you use the str() function or try to convert an object to a string using str(object)."
   ]
  },
  {
   "cell_type": "code",
   "execution_count": 42,
   "metadata": {},
   "outputs": [
    {
     "name": "stdout",
     "output_type": "stream",
     "text": [
      "Person(name='Nina', age=27)\n"
     ]
    }
   ],
   "source": [
    "# **\n",
    "class Person:\n",
    "    def __init__(self, name, age):\n",
    "        self.name = name\n",
    "        self.age = age\n",
    "\n",
    "    def __str__(self):\n",
    "        return f\"Person(name='{self.name}', age={self.age})\"\n",
    "\n",
    "person = Person(\"Nina\", 27)\n",
    "\n",
    "# Using __str__ method to get a string representation of the object\n",
    "string_representation = str(person)\n",
    "\n",
    "print(string_representation)"
   ]
  },
  {
   "cell_type": "markdown",
   "metadata": {},
   "source": [
    "When seeing ** besides text or code, it is made with the help of ChatGBT or similar AI. "
   ]
  }
 ],
 "metadata": {
  "kernelspec": {
   "display_name": "Python 3 (ipykernel)",
   "language": "python",
   "name": "python3"
  },
  "language_info": {
   "codemirror_mode": {
    "name": "ipython",
    "version": 3
   },
   "file_extension": ".py",
   "mimetype": "text/x-python",
   "name": "python",
   "nbconvert_exporter": "python",
   "pygments_lexer": "ipython3",
   "version": "3.11.4"
  },
  "varInspector": {
   "cols": {
    "lenName": 16,
    "lenType": 16,
    "lenVar": 40
   },
   "kernels_config": {
    "python": {
     "delete_cmd_postfix": "",
     "delete_cmd_prefix": "del ",
     "library": "var_list.py",
     "varRefreshCmd": "print(var_dic_list())"
    },
    "r": {
     "delete_cmd_postfix": ") ",
     "delete_cmd_prefix": "rm(",
     "library": "var_list.r",
     "varRefreshCmd": "cat(var_dic_list()) "
    }
   },
   "position": {
    "height": "144.517px",
    "left": "666px",
    "right": "20px",
    "top": "425px",
    "width": "350px"
   },
   "types_to_exclude": [
    "module",
    "function",
    "builtin_function_or_method",
    "instance",
    "_Feature"
   ],
   "window_display": true
  }
 },
 "nbformat": 4,
 "nbformat_minor": 2
}

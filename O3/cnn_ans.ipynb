{
 "cells": [
  {
   "cell_type": "markdown",
   "metadata": {},
   "source": [
    "## Convolutional Neural Networks (CNNs)\n",
    "\n",
    "In this exercise we aim to shed some light on the Convolution Neural Networks by explaining the primary concepts behind CNN such as convolution layers and feature mapping and implement a CNN model to solve the MNIST numbers problem of recognizing numbers from images of handdrawn numbers.\n",
    "\n",
    "### The basics\n",
    "\n",
    "We have previously worked with multilayer perceptron models - these operated by having one or more layers of neurons, and a good way to attempt to understand CNN is to compare them to MLP models. In MLP the input is connected to one or more 'hidden' layers with some weights, and each subsequent hidden is connected to a layer before it. MLP layer consists of a one dimensional array of neurons. CNN, much like multilayer perceptrons, operate on layers connected to each other. The primary difference is that CNN models utilize a 2x2 matrix of neurons instead of a 1d array. This makes them much more fitting for tasks such as image recognition, where the input image can easily be represented as a 2d array of pixels.\n",
    "\n",
    "Another major difference is that in CNN each neuron in a layer is connected to specific subset of last layer called its receptive field. A receptive field is a i x i matrix, and can be thought of as a neurons 'field of vision'. Each neuron performs a convolution operation on its input based on a kernel (filter matrix) of the same size as the receptive fied.\n",
    "\n",
    "<img align = \"middle\" src=\"convolution_layer_geron.png\" width=\"500\"/>\n",
    "  \n",
    "<figcaption align = \"center\"><b>Example of convolution layer. The \"cone\" coming from the top layer is the receptive field of a neuron of size (3x3). </b> <i>A. Geron, Hands on Machine Learning</i></figcaption>\n",
    "\n"
   ]
  },
  {
   "cell_type": "markdown",
   "metadata": {},
   "source": [
    "## Using CNN to predict MNIST numbers dataset.\n",
    "\n",
    "We will now try to create a new CNN model using Keras framework and tweak it to predict the numbers out of an image with high accuracy.\n",
    "\n"
   ]
  },
  {
   "cell_type": "code",
   "execution_count": 2,
   "metadata": {},
   "outputs": [
    {
     "name": "stderr",
     "output_type": "stream",
     "text": [
      "c:\\Users\\nastr\\anaconda3\\envs\\swmal\\lib\\site-packages\\sklearn\\datasets\\_openml.py:1002: FutureWarning: The default value of `parser` will change from `'liac-arff'` to `'auto'` in 1.4. You can set `parser='auto'` to silence this warning. Therefore, an `ImportError` will be raised from 1.4 if the dataset is dense and pandas is not installed. Note that the pandas parser may return different data types. See the Notes Section in fetch_openml's API doc for details.\n",
      "  warn(\n"
     ]
    },
    {
     "name": "stdout",
     "output_type": "stream",
     "text": [
      "OK\n"
     ]
    }
   ],
   "source": [
    "# Methods for downloading and plotting the data\n",
    "\n",
    "from sklearn.datasets import fetch_openml\n",
    "import pandas as pd\n",
    "\n",
    "# mnist 784 dataset has id == 554: https://www.openml.org/search?type=data&status=active&id=554\n",
    "\n",
    "def MNIST_GetDataSet() -> tuple[pd.DataFrame, pd.Series]:\n",
    "    X, y = fetch_openml(version=\"active\", data_id=554, return_X_y=True)\n",
    "    return X, y\n",
    "\n",
    "%matplotlib inline\n",
    "def MNIST_PlotDigit(data):\n",
    "    import matplotlib\n",
    "    import matplotlib.pyplot as plt\n",
    "    image = data.reshape(28, 28)\n",
    "    plt.imshow(image, cmap = matplotlib.cm.binary, interpolation=\"nearest\")\n",
    "    plt.axis(\"off\")\n",
    "\n",
    "X, y_true = MNIST_GetDataSet()\n",
    "print(\"OK\")"
   ]
  },
  {
   "cell_type": "markdown",
   "metadata": {},
   "source": [
    "To be able to feed the data into a cnn model, we have to reshape it into 28x28x1 shape, since each image consists of 28x28 pixels. This is because by default the data is flattened and instead of using 28x28 pixels it's shaped as an array with length of 784."
   ]
  },
  {
   "cell_type": "code",
   "execution_count": null,
   "metadata": {},
   "outputs": [
    {
     "name": "stdout",
     "output_type": "stream",
     "text": [
      "(70000, 784)\n",
      "(70000, 28, 28, 1)\n"
     ]
    }
   ],
   "source": [
    "print(X.shape)\n",
    "\n",
    "# Reshape the data\n",
    "X_all = X.to_numpy()\n",
    "X_all = X_all.reshape(70000, 28, 28, 1)\n",
    "print(X_all.shape)\n",
    "X_train = X_all[0:60000, :, :, :]\n",
    "X_test = X_all[60000: 70000, :, :, :]\n"
   ]
  },
  {
   "cell_type": "markdown",
   "metadata": {},
   "source": [
    "The output of the model will have to be a classification of a number between 0 and 9. At this step it is necessary to convert the train/test predictions to one-hot encoded values instead of the strings they are now. "
   ]
  },
  {
   "cell_type": "code",
   "execution_count": null,
   "metadata": {},
   "outputs": [
    {
     "name": "stdout",
     "output_type": "stream",
     "text": [
      "0    5\n",
      "1    0\n",
      "2    4\n",
      "3    1\n",
      "4    9\n",
      "Name: class, dtype: category\n",
      "Categories (10, object): ['0', '1', '2', '3', ..., '6', '7', '8', '9']\n",
      "[[0. 0. 0. 0. 0. 1. 0. 0. 0. 0.]\n",
      " [1. 0. 0. 0. 0. 0. 0. 0. 0. 0.]\n",
      " [0. 0. 0. 0. 1. 0. 0. 0. 0. 0.]\n",
      " [0. 1. 0. 0. 0. 0. 0. 0. 0. 0.]\n",
      " [0. 0. 0. 0. 0. 0. 0. 0. 0. 1.]]\n"
     ]
    }
   ],
   "source": [
    "# This performs 'one-hot encoding'\n",
    "from keras.utils import to_categorical\n",
    "# Right now y_true is a vector of string with '0' to '9' in them\n",
    "print(y_true[0:5])\n",
    "\n",
    "X_train = X[0:60000]\n",
    "X_test = X[60000:70000]\n",
    "# Convert the string to an array of 0s and 1s, where the \"correct\" value is given a 1 and each other value is a 0\n",
    "y_train = to_categorical(y_true[0:60000])\n",
    "y_test = to_categorical(y_true[60000:70000])\n",
    "\n",
    "print(y_train[0:5])\n",
    "\n"
   ]
  },
  {
   "cell_type": "markdown",
   "metadata": {},
   "source": [
    "Lets train some cnn models to try to categorize the numbers. Additionally, since some of the fitting will take a long time, let's measure how long they take to train as well."
   ]
  },
  {
   "cell_type": "code",
   "execution_count": 3,
   "metadata": {},
   "outputs": [
    {
     "ename": "NameError",
     "evalue": "name 'X_train' is not defined",
     "output_type": "error",
     "traceback": [
      "\u001b[1;31m---------------------------------------------------------------------------\u001b[0m",
      "\u001b[1;31mNameError\u001b[0m                                 Traceback (most recent call last)",
      "\u001b[1;32mc:\\UNI_2023\\ml\\swmal_grp10\\O3\\cnn_ans.ipynb Cell 10\u001b[0m line \u001b[0;36m2\n\u001b[0;32m     <a href='vscode-notebook-cell:/c%3A/UNI_2023/ml/swmal_grp10/O3/cnn_ans.ipynb#X12sZmlsZQ%3D%3D?line=22'>23</a>\u001b[0m model\u001b[39m.\u001b[39mcompile(optimizer\u001b[39m=\u001b[39m\u001b[39m'\u001b[39m\u001b[39madam\u001b[39m\u001b[39m'\u001b[39m, loss\u001b[39m=\u001b[39m\u001b[39m'\u001b[39m\u001b[39mcategorical_crossentropy\u001b[39m\u001b[39m'\u001b[39m, metrics\u001b[39m=\u001b[39m[\u001b[39m'\u001b[39m\u001b[39maccuracy\u001b[39m\u001b[39m'\u001b[39m])\n\u001b[0;32m     <a href='vscode-notebook-cell:/c%3A/UNI_2023/ml/swmal_grp10/O3/cnn_ans.ipynb#X12sZmlsZQ%3D%3D?line=23'>24</a>\u001b[0m start \u001b[39m=\u001b[39m time\u001b[39m.\u001b[39mtime()\n\u001b[1;32m---> <a href='vscode-notebook-cell:/c%3A/UNI_2023/ml/swmal_grp10/O3/cnn_ans.ipynb#X12sZmlsZQ%3D%3D?line=24'>25</a>\u001b[0m fittingLogs \u001b[39m=\u001b[39m model\u001b[39m.\u001b[39mfit(X_train, y_train, validation_data\u001b[39m=\u001b[39m(X_test, y_test), epochs\u001b[39m=\u001b[39m\u001b[39m3\u001b[39m)\n\u001b[0;32m     <a href='vscode-notebook-cell:/c%3A/UNI_2023/ml/swmal_grp10/O3/cnn_ans.ipynb#X12sZmlsZQ%3D%3D?line=25'>26</a>\u001b[0m end \u001b[39m=\u001b[39m time\u001b[39m.\u001b[39mtime()\n\u001b[0;32m     <a href='vscode-notebook-cell:/c%3A/UNI_2023/ml/swmal_grp10/O3/cnn_ans.ipynb#X12sZmlsZQ%3D%3D?line=26'>27</a>\u001b[0m \u001b[39mprint\u001b[39m(\u001b[39m\"\u001b[39m\u001b[39mtime to fit: \u001b[39m\u001b[39m\"\u001b[39m, end\u001b[39m-\u001b[39mstart, \u001b[39m\"\u001b[39m\u001b[39ms\u001b[39m\u001b[39m\"\u001b[39m)\n",
      "\u001b[1;31mNameError\u001b[0m: name 'X_train' is not defined"
     ]
    }
   ],
   "source": [
    "from keras.models import Sequential\n",
    "from keras.layers import Dense, Conv2D, Flatten\n",
    "from pandas import Series\n",
    "import time\n",
    "\n",
    "def printAccData(acc : dict[str, float]):\n",
    "    valid_acc = Series(fittingLogs.history[\"val_accuracy\"])\n",
    "    print(valid_acc.describe())\n",
    "    return valid_acc.mean()\n",
    "\n",
    "# Model 1: 3 layers, kernel size 1x1\n",
    "\n",
    "model = Sequential([\n",
    "    Conv2D(16, kernel_size=1, activation='relu', input_shape=(28,28,1)),\n",
    "    Conv2D(16, kernel_size=1, activation='relu', input_shape=(28,28,1)),\n",
    "    Conv2D(16, kernel_size=1, activation='relu', input_shape=(28,28,1)),\n",
    "])\n",
    "\n",
    "model.add(Flatten())\n",
    "# Dense() creates connection to the output layer\n",
    "model.add(Dense(10, activation='softmax'))\n",
    "\n",
    "model.compile(optimizer='adam', loss='categorical_crossentropy', metrics=['accuracy'])\n",
    "start = time.time()\n",
    "fittingLogs = model.fit(X_train, y_train, validation_data=(X_test, y_test), epochs=3)\n",
    "end = time.time()\n",
    "print(\"time to fit: \", end-start, \"s\")\n",
    "final = end-start\n",
    "mean1 = printAccData(fittingLogs)\n",
    "m1_res = Series([mean1, final])\n",
    "\n"
   ]
  },
  {
   "cell_type": "markdown",
   "metadata": {},
   "source": [
    "Let's try increasing the kernel size to 3x3."
   ]
  },
  {
   "cell_type": "code",
   "execution_count": null,
   "metadata": {},
   "outputs": [
    {
     "name": "stdout",
     "output_type": "stream",
     "text": [
      "(60000, 28, 28, 1)\n",
      "(10000, 28, 28, 1)\n",
      "Epoch 1/3\n",
      "1875/1875 [==============================] - 29s 15ms/step - loss: 0.2496 - accuracy: 0.9512 - val_loss: 0.0785 - val_accuracy: 0.9775\n",
      "Epoch 2/3\n",
      "1875/1875 [==============================] - 29s 15ms/step - loss: 0.0642 - accuracy: 0.9810 - val_loss: 0.0641 - val_accuracy: 0.9791\n",
      "Epoch 3/3\n",
      "1875/1875 [==============================] - 28s 15ms/step - loss: 0.0431 - accuracy: 0.9865 - val_loss: 0.0668 - val_accuracy: 0.9821\n",
      "time to fit:  86.1745834350586 s\n",
      "count    3.000000\n",
      "mean     0.979567\n",
      "std      0.002335\n",
      "min      0.977500\n",
      "25%      0.978300\n",
      "50%      0.979100\n",
      "75%      0.980600\n",
      "max      0.982100\n",
      "dtype: float64\n",
      "count    3.000000\n",
      "mean     0.979567\n",
      "std      0.002335\n",
      "min      0.977500\n",
      "25%      0.978300\n",
      "50%      0.979100\n",
      "75%      0.980600\n",
      "max      0.982100\n",
      "dtype: float64\n"
     ]
    }
   ],
   "source": [
    "\n",
    "model = Sequential()\n",
    "\n",
    "model.add(Conv2D(16, kernel_size=3, activation='relu', input_shape=(28,28,1))),\n",
    "model.add(Conv2D(16, kernel_size=3, activation='relu'))\n",
    "model.add(Conv2D(16, kernel_size=3, activation='relu'))\n",
    "model.add(Flatten())\n",
    "model.add(Dense(10, activation='softmax'))\n",
    "\n",
    "model.compile(optimizer='adam', loss='categorical_crossentropy', metrics=['accuracy'])\n",
    "\n",
    "print(X_train.shape)\n",
    "print(X_test.shape)\n",
    "#train the model\n",
    "start = time.time()\n",
    "fittingLogs = model.fit(X_train, y_train, validation_data=(X_test, y_test), epochs=3)\n",
    "end = time.time()\n",
    "print(\"time to fit: \", end-start, \"s\")\n",
    "mean2 = printAccData(fittingLogs)\n",
    "\n",
    "final = end-start\n",
    "mean2 = printAccData(fittingLogs)\n",
    "m2_res = Series([mean2, final])\n",
    "\n",
    "\n"
   ]
  },
  {
   "cell_type": "markdown",
   "metadata": {},
   "source": [
    "That was a noticable improvement in accuracy! We went from 0.917267 average validation accuracy to 0.977233, although the computation time has rougly doubled. Let's try doubling the filter size."
   ]
  },
  {
   "cell_type": "code",
   "execution_count": null,
   "metadata": {},
   "outputs": [
    {
     "name": "stdout",
     "output_type": "stream",
     "text": [
      "(60000, 28, 28, 1)\n",
      "(10000, 28, 28, 1)\n",
      "Epoch 1/3\n",
      "1875/1875 [==============================] - 57s 30ms/step - loss: 0.1769 - accuracy: 0.9613 - val_loss: 0.0664 - val_accuracy: 0.9788\n",
      "Epoch 2/3\n",
      "1875/1875 [==============================] - 57s 30ms/step - loss: 0.0497 - accuracy: 0.9850 - val_loss: 0.0745 - val_accuracy: 0.9780\n",
      "Epoch 3/3\n",
      "1875/1875 [==============================] - 54s 29ms/step - loss: 0.0370 - accuracy: 0.9879 - val_loss: 0.0784 - val_accuracy: 0.9771\n",
      "time to fit:  168.18496894836426 s\n",
      "count    3.000000\n",
      "mean     0.977967\n",
      "std      0.000850\n",
      "min      0.977100\n",
      "25%      0.977550\n",
      "50%      0.978000\n",
      "75%      0.978400\n",
      "max      0.978800\n",
      "dtype: float64\n"
     ]
    }
   ],
   "source": [
    "\n",
    "model = Sequential()\n",
    "\n",
    "model.add(Conv2D(32, kernel_size=3, activation='relu', input_shape=(28,28,1))),\n",
    "model.add(Conv2D(32, kernel_size=3, activation='relu'))\n",
    "model.add(Conv2D(32, kernel_size=3, activation='relu'))\n",
    "model.add(Flatten())\n",
    "model.add(Dense(10, activation='softmax'))\n",
    "\n",
    "model.compile(optimizer='adam', loss='categorical_crossentropy', metrics=['accuracy'])\n",
    "\n",
    "print(X_train.shape)\n",
    "print(X_test.shape)\n",
    "#train the model\n",
    "start = time.time()\n",
    "fittingLogs = model.fit(X_train, y_train, validation_data=(X_test, y_test), epochs=3)\n",
    "end = time.time()\n",
    "print(\"time to fit: \", end-start, \"s\")\n",
    "mean3 = printAccData(fittingLogs)\n",
    "final = end-start\n",
    "m3_res = Series([mean3, final])\n",
    "\n"
   ]
  },
  {
   "cell_type": "markdown",
   "metadata": {},
   "source": [
    "Uh oh! Our accuracy has barely improved while the computation time for fitting, has doubled. Clearly adding more filters did not yield a noticable improvement to our model. The average accuracy and time can be shown below.\n",
    "\n",
    "\n",
    "A useful article about improving the performance of a model can be found here: https://machinelearningmastery.com/improve-deep-learning-performance/"
   ]
  },
  {
   "cell_type": "code",
   "execution_count": null,
   "metadata": {},
   "outputs": [
    {
     "data": {
      "text/plain": [
       "<Axes: title={'center': 'exec time'}>"
      ]
     },
     "execution_count": 87,
     "metadata": {},
     "output_type": "execute_result"
    },
    {
     "data": {
      "image/png": "[encoded data removed]",
      "text/plain": [
       "<Figure size 640x480 with 2 Axes>"
      ]
     },
     "metadata": {},
     "output_type": "display_data"
    }
   ],
   "source": [
    "from pandas import DataFrame as df\n",
    "from matplotlib import pyplot as plt\n",
    "results_score = Series([m1_res.iloc[0], m2_res.iloc[0], m3_res.iloc[0]])\n",
    "results_time = Series([m1_res.iloc[1],m2_res.iloc[1], m3_res.iloc[1]])\n",
    "\n",
    "fig, axes = plt.subplots(1, 2)\n",
    "\n",
    "x_labels = [\"1x1 kernel\", \"3x3 kernel, 16\", \"3x3 kernel, 32\"]\n",
    "results_score.plot.bar(ax = axes[0], title=\"mean accuracy\", )\n",
    "results_time.plot.bar(ax = axes[1], color=\"green\", title=\"exec time\")\n",
    "\n",
    "\n",
    "\n",
    "\n",
    "\n"
   ]
  }
 ],
 "metadata": {
  "kernelspec": {
   "display_name": "base",
   "language": "python",
   "name": "python3"
  },
  "language_info": {
   "codemirror_mode": {
    "name": "ipython",
    "version": 3
   },
   "file_extension": ".py",
   "mimetype": "text/x-python",
   "name": "python",
   "nbconvert_exporter": "python",
   "pygments_lexer": "ipython3",
   "version": "3.10.13"
  }
 },
 "nbformat": 4,
 "nbformat_minor": 2
}
